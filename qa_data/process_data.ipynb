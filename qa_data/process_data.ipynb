{
 "cells": [
  {
   "cell_type": "code",
   "execution_count": 1,
   "metadata": {},
   "outputs": [
    {
     "name": "stdout",
     "output_type": "stream",
     "text": [
      "dict_keys(['question', 'answers', 'ctxs', 'nq_annotated_gold', 'gold_document', 'distractors'])\n"
     ]
    }
   ],
   "source": [
    "from xopen import xopen\n",
    "import json\n",
    "with xopen(\"/root/projects/position_bias/Z_deepseek_dstill/qa_data/20_total_documents.jsonl.gz\") as f:\n",
    "    for line in f:\n",
    "        data = json.loads(line.strip())\n",
    "        break\n",
    "print(data.keys())"
   ]
  }
 ],
 "metadata": {
  "language_info": {
   "name": "python"
  }
 },
 "nbformat": 4,
 "nbformat_minor": 2
}
